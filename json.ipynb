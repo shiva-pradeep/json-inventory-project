{
 "cells": [
  {
   "cell_type": "code",
   "execution_count": 1,
   "id": "55cf3932",
   "metadata": {},
   "outputs": [],
   "source": [
    "import json "
   ]
  },
  {
   "cell_type": "code",
   "execution_count": 13,
   "id": "e49e2f66",
   "metadata": {},
   "outputs": [],
   "source": [
    "records={18360:{\"name\":\"5star\",\"qn\":45,\"pr\":5,\"size\":'s',\"exp\":\"2014\"},\n",
    "         18361:{\"name\":\"dairy milk\",\"qn\":63,\"pr\":10,\"size\":'m',\"exp\":\"2022\"},\n",
    "         18362:{\"name\":\"gems\",\"qn\":12,\"pr\":15,\"size\":'l',\"exp\":\"2025\"},\n",
    "         18363:{\"name\":\"kitkat\",\"qn\":34,\"pr\":20,\"size\":'m',\"exp\":\"2021\"},\n",
    "         18364:{\"name\":\"milkybar\",\"qn\":56,\"pr\":34,\"size\":'l',\"exp\":\"2011\"},\n",
    "         18365:{\"name\":\"munch\",\"qn\":21,\"pr\":25,\"size\":'s',\"exp\":\"2035\"},\n",
    "         18366:{\"name\":\"perk\",\"qn\":16,\"pr\":30,\"size\":'m',\"exp\":\"2032\"},\n",
    "         18367:{\"name\":\"silk\",\"qn\":78,\"pr\":16,\"size\":'l',\"exp\":\"2012\"},\n",
    "         18368:{\"name\":\"lifeboy\",\"qn\":25,\"pr\":55,\"size\":'s',\"exp\":\"2034\"},\n",
    "         18369:{\"name\":\"dettol\",\"qn\":43,\"pr\":60,\"size\":'m',\"exp\":\"2067\"},\n",
    "         18371:{\"name\":\"lux\",\"qn\":22,\"pr\":45,\"size\":'s',\"exp\":\"2033\"},\n",
    "         18372:{\"name\":\"cinthol\",\"qn\":67,\"pr\":60,\"size\":'l',\"exp\":\"2056\"},\n",
    "         18373:{\"name\":\"dove\",\"qn\":71,\"pr\":65,\"size\":'s',\"exp\":\"2071\"},\n",
    "         18374:{\"name\":\"pears\",\"qn\":89,\"pr\":70,\"size\":'m',\"exp\":\"2013\"},\n",
    "         18375:{\"name\":\"santoor\",\"qn\":36,\"pr\":80,\"size\":'l',\"exp\":\"2055\"},\n",
    "         18376:{\"name\":\"maggie\",\"qn\":50,\"pr\":90,\"size\":'s',\"exp\":\"2040\"},\n",
    "         18377:{\"name\":\"yippe\",\"qn\":58,\"pr\":85,\"size\":'l',\"exp\":\"2076\"},\n",
    "         18378:{\"name\":\"topromin\",\"qn\":44,\"pr\":75,\"size\":'m',\"exp\":\"2009\"},\n",
    "         18379:{\"name\":\"tata salt\",\"qn\":84,\"pr\":88,\"size\":'s',\"exp\":\"2007\"},\n",
    "         18380:{\"name\":\"ashrvid\",\"qn\":99,\"pr\":33,\"size\":'m',\"exp\":\"2003\"},\n",
    "         18381:{\"name\":\"3roses\",\"qn\":23,\"pr\":44,\"size\":'l',\"exp\":\"2076\"},\n",
    "         18382:{\"name\":\"red label\",\"qn\":24,\"pr\":22,\"size\":'m',\"exp\":\"2062\"},\n",
    "         18383:{\"name\":\"taj mahal\",\"qn\":74,\"pr\":67,\"size\":'l',\"exp\":\"2039\"},\n",
    "         18384:{\"name\":\"gemini\",\"qn\":66,\"pr\":51,\"size\":'s',\"exp\":\"2049\"},\n",
    "         18385:{\"name\":\"parle-g\",\"qn\":67,\"pr\":88,\"size\":'m',\"exp\":\"2059\"},\n",
    "         18386:{\"name\":\"bourbon\",\"qn\":69,\"pr\":100,\"size\":'l',\"exp\":\"2000\"},\n",
    "         18387:{\"name\":\"hide&seek\",\"qn\":18,\"pr\":110,\"size\":'s',\"exp\":\"2068\"},\n",
    "         18388:{\"name\":\"tiger\",\"qn\":70,\"pr\":54,\"size\":'l',\"exp\":\"2098\"},\n",
    "         18389:{\"name\":\"gooday\",\"qn\":100,\"pr\":20,\"size\":\"s\",\"exp\":\"2091\"},\n",
    "         18390:{\"name\":\"darkfantasy\",\"qn\":123,\"pr\":14,\"size\":'m',\"exp\":\"2027\"},\n",
    "        }\n",
    "        "
   ]
  },
  {
   "cell_type": "code",
   "execution_count": 14,
   "id": "997e6d23",
   "metadata": {},
   "outputs": [],
   "source": [
    "js=json.dumps(records)"
   ]
  },
  {
   "cell_type": "code",
   "execution_count": 15,
   "id": "81e22c8d",
   "metadata": {},
   "outputs": [
    {
     "data": {
      "text/plain": [
       "'{\"18360\": {\"name\": \"5star\", \"qn\": 45, \"pr\": 5, \"size\": \"s\", \"exp\": \"2014\"}, \"18361\": {\"name\": \"dairy milk\", \"qn\": 63, \"pr\": 10, \"size\": \"m\", \"exp\": \"2022\"}, \"18362\": {\"name\": \"gems\", \"qn\": 12, \"pr\": 15, \"size\": \"l\", \"exp\": \"2025\"}, \"18363\": {\"name\": \"kitkat\", \"qn\": 34, \"pr\": 20, \"size\": \"m\", \"exp\": \"2021\"}, \"18364\": {\"name\": \"milkybar\", \"qn\": 56, \"pr\": 34, \"size\": \"l\", \"exp\": \"2011\"}, \"18365\": {\"name\": \"munch\", \"qn\": 21, \"pr\": 25, \"size\": \"s\", \"exp\": \"2035\"}, \"18366\": {\"name\": \"perk\", \"qn\": 16, \"pr\": 30, \"size\": \"m\", \"exp\": \"2032\"}, \"18367\": {\"name\": \"silk\", \"qn\": 78, \"pr\": 16, \"size\": \"l\", \"exp\": \"2012\"}, \"18368\": {\"name\": \"lifeboy\", \"qn\": 25, \"pr\": 55, \"size\": \"s\", \"exp\": \"2034\"}, \"18369\": {\"name\": \"dettol\", \"qn\": 43, \"pr\": 60, \"size\": \"m\", \"exp\": \"2067\"}, \"18371\": {\"name\": \"lux\", \"qn\": 22, \"pr\": 45, \"size\": \"s\", \"exp\": \"2033\"}, \"18372\": {\"name\": \"cinthol\", \"qn\": 67, \"pr\": 60, \"size\": \"l\", \"exp\": \"2056\"}, \"18373\": {\"name\": \"dove\", \"qn\": 71, \"pr\": 65, \"size\": \"s\", \"exp\": \"2071\"}, \"18374\": {\"name\": \"pears\", \"qn\": 89, \"pr\": 70, \"size\": \"m\", \"exp\": \"2013\"}, \"18375\": {\"name\": \"santoor\", \"qn\": 36, \"pr\": 80, \"size\": \"l\", \"exp\": \"2055\"}, \"18376\": {\"name\": \"maggie\", \"qn\": 50, \"pr\": 90, \"size\": \"s\", \"exp\": \"2040\"}, \"18377\": {\"name\": \"yippe\", \"qn\": 58, \"pr\": 85, \"size\": \"l\", \"exp\": \"2076\"}, \"18378\": {\"name\": \"topromin\", \"qn\": 44, \"pr\": 75, \"size\": \"m\", \"exp\": \"2009\"}, \"18379\": {\"name\": \"tata salt\", \"qn\": 84, \"pr\": 88, \"size\": \"s\", \"exp\": \"2007\"}, \"18380\": {\"name\": \"ashrvid\", \"qn\": 99, \"pr\": 33, \"size\": \"m\", \"exp\": \"2003\"}, \"18381\": {\"name\": \"3roses\", \"qn\": 23, \"pr\": 44, \"size\": \"l\", \"exp\": \"2076\"}, \"18382\": {\"name\": \"red label\", \"qn\": 24, \"pr\": 22, \"size\": \"m\", \"exp\": \"2062\"}, \"18383\": {\"name\": \"taj mahal\", \"qn\": 74, \"pr\": 67, \"size\": \"l\", \"exp\": \"2039\"}, \"18384\": {\"name\": \"gemini\", \"qn\": 66, \"pr\": 51, \"size\": \"s\", \"exp\": \"2049\"}, \"18385\": {\"name\": \"parle-g\", \"qn\": 67, \"pr\": 88, \"size\": \"m\", \"exp\": \"2059\"}, \"18386\": {\"name\": \"bourbon\", \"qn\": 69, \"pr\": 100, \"size\": \"l\", \"exp\": \"2000\"}, \"18387\": {\"name\": \"hide&seek\", \"qn\": 18, \"pr\": 110, \"size\": \"s\", \"exp\": \"2068\"}, \"18388\": {\"name\": \"tiger\", \"qn\": 70, \"pr\": 54, \"size\": \"l\", \"exp\": \"2098\"}, \"18389\": {\"name\": \"gooday\", \"qn\": 100, \"pr\": 20, \"size\": \"s\", \"exp\": \"2091\"}, \"18390\": {\"name\": \"darkfantasy\", \"qn\": 123, \"pr\": 14, \"size\": \"m\", \"exp\": \"2027\"}}'"
      ]
     },
     "execution_count": 15,
     "metadata": {},
     "output_type": "execute_result"
    }
   ],
   "source": [
    "js"
   ]
  },
  {
   "cell_type": "code",
   "execution_count": 16,
   "id": "9104dfe5",
   "metadata": {},
   "outputs": [
    {
     "data": {
      "text/plain": [
       "str"
      ]
     },
     "execution_count": 16,
     "metadata": {},
     "output_type": "execute_result"
    }
   ],
   "source": [
    "type(js)"
   ]
  },
  {
   "cell_type": "code",
   "execution_count": 6,
   "id": "3c5d71ec",
   "metadata": {},
   "outputs": [
    {
     "data": {
      "text/plain": [
       "{18360: {'name': '5star', 'qn': '45', 'pr': '5', 'size': 's', 'exp': '2014'},\n",
       " 18361: {'name': 'dairy milk',\n",
       "  'qn': '63',\n",
       "  'pr': '10',\n",
       "  'size': 'm',\n",
       "  'exp': '2022'},\n",
       " 18362: {'name': 'gems', 'qn': '12', 'pr': '15', 'size': 'l', 'exp': '2025'},\n",
       " 18363: {'name': 'kitkat', 'qn': '34', 'pr': '20', 'size': 'm', 'exp': '2021'},\n",
       " 18364: {'name': 'milkybar',\n",
       "  'qn': '56',\n",
       "  'pr': '34',\n",
       "  'size': 'l',\n",
       "  'exp': '2011'},\n",
       " 18365: {'name': 'munch', 'qn': '21', 'pr': '25', 'size': 's', 'exp': '2035'},\n",
       " 18366: {'name': 'perk', 'qn': '16', 'pr': '30', 'size': 'm', 'exp': '2032'},\n",
       " 18367: {'name': 'silk', 'qn': '78', 'pr': '16', 'size': 'l', 'exp': '2012'},\n",
       " 18368: {'name': 'lifeboy',\n",
       "  'qn': '25',\n",
       "  'pr': '55',\n",
       "  'size': 's',\n",
       "  'exp': '2034'},\n",
       " 18369: {'name': 'dettol', 'qn': '43', 'pr': '60', 'size': 'm', 'exp': '2067'},\n",
       " 18371: {'name': 'lux', 'qn': '22', 'pr': '45', 'size': 's', 'exp': '2033'},\n",
       " 18372: {'name': 'cinthol',\n",
       "  'qn': '67',\n",
       "  'pr': '60',\n",
       "  'size': 'l',\n",
       "  'exp': '2056'},\n",
       " 18373: {'name': 'dove', 'qn': '71', 'pr': '65', 'size': 's', 'exp': '2071'},\n",
       " 18374: {'name': 'pears', 'qn': '89', 'pr': '70', 'size': 'm', 'exp': '2013'},\n",
       " 18375: {'name': 'santoor',\n",
       "  'qn': '36',\n",
       "  'pr': '80',\n",
       "  'size': 'l',\n",
       "  'exp': '2055'},\n",
       " 18376: {'name': 'maggie', 'qn': '50', 'pr': '90', 'size': 's', 'exp': '2040'},\n",
       " 18377: {'name': 'yippe', 'qn': '58', 'pr': '85', 'size': 'l', 'exp': '2076'},\n",
       " 18378: {'name': 'topromin',\n",
       "  'qn': '44',\n",
       "  'pr': '75',\n",
       "  'size': 'm',\n",
       "  'exp': '2009'},\n",
       " 18379: {'name': 'tata salt',\n",
       "  'qn': '84',\n",
       "  'pr': '88',\n",
       "  'size': 's',\n",
       "  'exp': '2007'},\n",
       " 18380: {'name': 'ashrvid',\n",
       "  'qn': '99',\n",
       "  'pr': '33',\n",
       "  'size': 'm',\n",
       "  'exp': '2003'},\n",
       " 18381: {'name': '3roses', 'qn': '23', 'pr': '44', 'size': 'l', 'exp': '2076'},\n",
       " 18382: {'name': 'red label',\n",
       "  'qn': '24',\n",
       "  'pr': '22',\n",
       "  'size': 'm',\n",
       "  'exp': '2062'},\n",
       " 18383: {'name': 'taj mahal',\n",
       "  'qn': '74',\n",
       "  'pr': '67',\n",
       "  'size': 'l',\n",
       "  'exp': '2039'},\n",
       " 18384: {'name': 'gemini', 'qn': '66', 'pr': '51', 'size': 's', 'exp': '2049'},\n",
       " 18385: {'name': 'parle-g',\n",
       "  'qn': '67',\n",
       "  'pr': '88',\n",
       "  'size': 'm',\n",
       "  'exp': '2059'},\n",
       " 18386: {'name': 'bourbon',\n",
       "  'qn': '69',\n",
       "  'pr': '100',\n",
       "  'size': 'l',\n",
       "  'exp': '2000'},\n",
       " 18387: {'name': 'hide&seek',\n",
       "  'qn': '18',\n",
       "  'pr': '110',\n",
       "  'size': 's',\n",
       "  'exp': '2068'},\n",
       " 18388: {'name': 'tiger', 'qn': '70', 'pr': '54', 'size': 'l', 'exp': '2098'},\n",
       " 18389: {'name': 'gooday',\n",
       "  'qn': '100',\n",
       "  'pr': '20',\n",
       "  'size': 's',\n",
       "  'exp': '2091'},\n",
       " 18390: {'name': 'darkfantasy',\n",
       "  '123': '5',\n",
       "  'pr': '14',\n",
       "  'size': 'm',\n",
       "  'exp': '2027'}}"
      ]
     },
     "execution_count": 6,
     "metadata": {},
     "output_type": "execute_result"
    }
   ],
   "source": [
    "records\n"
   ]
  },
  {
   "cell_type": "code",
   "execution_count": 17,
   "id": "ed616b0d",
   "metadata": {},
   "outputs": [
    {
     "data": {
      "text/plain": [
       "dict"
      ]
     },
     "execution_count": 17,
     "metadata": {},
     "output_type": "execute_result"
    }
   ],
   "source": [
    "type(records)"
   ]
  },
  {
   "cell_type": "code",
   "execution_count": 18,
   "id": "d11d1349",
   "metadata": {},
   "outputs": [],
   "source": [
    "fd=open(\"record.json\",\"w\")\n",
    "fd.write(js)\n",
    "fd.close()\n"
   ]
  },
  {
   "cell_type": "code",
   "execution_count": 19,
   "id": "9a60f028",
   "metadata": {},
   "outputs": [],
   "source": [
    "fd=open(\"record.json\",\"r\")\n",
    "txt=fd.read()\n",
    "fd.close()"
   ]
  },
  {
   "cell_type": "code",
   "execution_count": 20,
   "id": "3d2bb6e5",
   "metadata": {},
   "outputs": [
    {
     "data": {
      "text/plain": [
       "'{\"18360\": {\"name\": \"5star\", \"qn\": 45, \"pr\": 5, \"size\": \"s\", \"exp\": \"2014\"}, \"18361\": {\"name\": \"dairy milk\", \"qn\": 63, \"pr\": 10, \"size\": \"m\", \"exp\": \"2022\"}, \"18362\": {\"name\": \"gems\", \"qn\": 12, \"pr\": 15, \"size\": \"l\", \"exp\": \"2025\"}, \"18363\": {\"name\": \"kitkat\", \"qn\": 34, \"pr\": 20, \"size\": \"m\", \"exp\": \"2021\"}, \"18364\": {\"name\": \"milkybar\", \"qn\": 56, \"pr\": 34, \"size\": \"l\", \"exp\": \"2011\"}, \"18365\": {\"name\": \"munch\", \"qn\": 21, \"pr\": 25, \"size\": \"s\", \"exp\": \"2035\"}, \"18366\": {\"name\": \"perk\", \"qn\": 16, \"pr\": 30, \"size\": \"m\", \"exp\": \"2032\"}, \"18367\": {\"name\": \"silk\", \"qn\": 78, \"pr\": 16, \"size\": \"l\", \"exp\": \"2012\"}, \"18368\": {\"name\": \"lifeboy\", \"qn\": 25, \"pr\": 55, \"size\": \"s\", \"exp\": \"2034\"}, \"18369\": {\"name\": \"dettol\", \"qn\": 43, \"pr\": 60, \"size\": \"m\", \"exp\": \"2067\"}, \"18371\": {\"name\": \"lux\", \"qn\": 22, \"pr\": 45, \"size\": \"s\", \"exp\": \"2033\"}, \"18372\": {\"name\": \"cinthol\", \"qn\": 67, \"pr\": 60, \"size\": \"l\", \"exp\": \"2056\"}, \"18373\": {\"name\": \"dove\", \"qn\": 71, \"pr\": 65, \"size\": \"s\", \"exp\": \"2071\"}, \"18374\": {\"name\": \"pears\", \"qn\": 89, \"pr\": 70, \"size\": \"m\", \"exp\": \"2013\"}, \"18375\": {\"name\": \"santoor\", \"qn\": 36, \"pr\": 80, \"size\": \"l\", \"exp\": \"2055\"}, \"18376\": {\"name\": \"maggie\", \"qn\": 50, \"pr\": 90, \"size\": \"s\", \"exp\": \"2040\"}, \"18377\": {\"name\": \"yippe\", \"qn\": 58, \"pr\": 85, \"size\": \"l\", \"exp\": \"2076\"}, \"18378\": {\"name\": \"topromin\", \"qn\": 44, \"pr\": 75, \"size\": \"m\", \"exp\": \"2009\"}, \"18379\": {\"name\": \"tata salt\", \"qn\": 84, \"pr\": 88, \"size\": \"s\", \"exp\": \"2007\"}, \"18380\": {\"name\": \"ashrvid\", \"qn\": 99, \"pr\": 33, \"size\": \"m\", \"exp\": \"2003\"}, \"18381\": {\"name\": \"3roses\", \"qn\": 23, \"pr\": 44, \"size\": \"l\", \"exp\": \"2076\"}, \"18382\": {\"name\": \"red label\", \"qn\": 24, \"pr\": 22, \"size\": \"m\", \"exp\": \"2062\"}, \"18383\": {\"name\": \"taj mahal\", \"qn\": 74, \"pr\": 67, \"size\": \"l\", \"exp\": \"2039\"}, \"18384\": {\"name\": \"gemini\", \"qn\": 66, \"pr\": 51, \"size\": \"s\", \"exp\": \"2049\"}, \"18385\": {\"name\": \"parle-g\", \"qn\": 67, \"pr\": 88, \"size\": \"m\", \"exp\": \"2059\"}, \"18386\": {\"name\": \"bourbon\", \"qn\": 69, \"pr\": 100, \"size\": \"l\", \"exp\": \"2000\"}, \"18387\": {\"name\": \"hide&seek\", \"qn\": 18, \"pr\": 110, \"size\": \"s\", \"exp\": \"2068\"}, \"18388\": {\"name\": \"tiger\", \"qn\": 70, \"pr\": 54, \"size\": \"l\", \"exp\": \"2098\"}, \"18389\": {\"name\": \"gooday\", \"qn\": 100, \"pr\": 20, \"size\": \"s\", \"exp\": \"2091\"}, \"18390\": {\"name\": \"darkfantasy\", \"qn\": 123, \"pr\": 14, \"size\": \"m\", \"exp\": \"2027\"}}'"
      ]
     },
     "execution_count": 20,
     "metadata": {},
     "output_type": "execute_result"
    }
   ],
   "source": [
    "txt"
   ]
  },
  {
   "cell_type": "code",
   "execution_count": 21,
   "id": "8aac974e",
   "metadata": {},
   "outputs": [],
   "source": [
    "record=json.loads(txt)"
   ]
  },
  {
   "cell_type": "code",
   "execution_count": null,
   "id": "c4514c80",
   "metadata": {},
   "outputs": [],
   "source": []
  },
  {
   "cell_type": "code",
   "execution_count": null,
   "id": "37d6eee7",
   "metadata": {},
   "outputs": [],
   "source": []
  }
 ],
 "metadata": {
  "kernelspec": {
   "display_name": "Python 3",
   "language": "python",
   "name": "python3"
  },
  "language_info": {
   "codemirror_mode": {
    "name": "ipython",
    "version": 3
   },
   "file_extension": ".py",
   "mimetype": "text/x-python",
   "name": "python",
   "nbconvert_exporter": "python",
   "pygments_lexer": "ipython3",
   "version": "3.8.8"
  }
 },
 "nbformat": 4,
 "nbformat_minor": 5
}
