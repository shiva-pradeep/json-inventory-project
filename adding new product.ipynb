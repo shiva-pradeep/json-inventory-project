{
 "cells": [
  {
   "cell_type": "markdown",
   "id": "92c671e7",
   "metadata": {},
   "source": [
    "# adding new product to inventory"
   ]
  },
  {
   "cell_type": "code",
   "execution_count": 9,
   "id": "2df7af30",
   "metadata": {},
   "outputs": [],
   "source": [
    "import json"
   ]
  },
  {
   "cell_type": "code",
   "execution_count": 10,
   "id": "582f044d",
   "metadata": {},
   "outputs": [],
   "source": [
    "fd=open(\"record.json\",\"r\")\n",
    "r=fd.read()\n",
    "fd.close()\n",
    "record=json.loads(r)"
   ]
  },
  {
   "cell_type": "code",
   "execution_count": 12,
   "id": "abda7a81",
   "metadata": {},
   "outputs": [
    {
     "name": "stdout",
     "output_type": "stream",
     "text": [
      "enter product id: 183100\n",
      "enter product name: sunsilk\n",
      "enter product quantity: 43\n",
      "enter product price: 26\n",
      "enter product size: m\n",
      "enter product expiry year: 2001\n"
     ]
    }
   ],
   "source": [
    "product_id=input(\"enter product id: \")\n",
    "name=input(\"enter product name: \")\n",
    "qn=int(input(\"enter product quantity: \"))\n",
    "pr=int(input(\"enter product price: \"))\n",
    "size=input(\"enter product size: \")\n",
    "exp=input(\"enter product expiry year: \")"
   ]
  },
  {
   "cell_type": "code",
   "execution_count": 17,
   "id": "f001b0ca",
   "metadata": {},
   "outputs": [],
   "source": [
    "record[product_id]={'name':name,'qn':qn,'pr':pr,'size':size,'exp':exp}"
   ]
  },
  {
   "cell_type": "code",
   "execution_count": 18,
   "id": "5f56e47e",
   "metadata": {},
   "outputs": [
    {
     "data": {
      "text/plain": [
       "{'18360': {'name': '5star', 'qn': 45, 'pr': 5, 'size': 's', 'exp': '2014'},\n",
       " '18361': {'name': 'dairy milk',\n",
       "  'qn': 63,\n",
       "  'pr': 10,\n",
       "  'size': 'm',\n",
       "  'exp': '2022'},\n",
       " '18362': {'name': 'gems', 'qn': 12, 'pr': 15, 'size': 'l', 'exp': '2025'},\n",
       " '18363': {'name': 'kitkat', 'qn': 34, 'pr': 20, 'size': 'm', 'exp': '2021'},\n",
       " '18364': {'name': 'milkybar', 'qn': 56, 'pr': 34, 'size': 'l', 'exp': '2011'},\n",
       " '18365': {'name': 'munch', 'qn': 21, 'pr': 25, 'size': 's', 'exp': '2035'},\n",
       " '18366': {'name': 'perk', 'qn': 16, 'pr': 30, 'size': 'm', 'exp': '2032'},\n",
       " '18367': {'name': 'silk', 'qn': 78, 'pr': 16, 'size': 'l', 'exp': '2012'},\n",
       " '18368': {'name': 'lifeboy', 'qn': 25, 'pr': 55, 'size': 's', 'exp': '2034'},\n",
       " '18369': {'name': 'dettol', 'qn': 43, 'pr': 60, 'size': 'm', 'exp': '2067'},\n",
       " '18371': {'name': 'lux', 'qn': 22, 'pr': 45, 'size': 's', 'exp': '2033'},\n",
       " '18372': {'name': 'cinthol', 'qn': 67, 'pr': 60, 'size': 'l', 'exp': '2056'},\n",
       " '18373': {'name': 'dove', 'qn': 71, 'pr': 65, 'size': 's', 'exp': '2071'},\n",
       " '18374': {'name': 'pears', 'qn': 89, 'pr': 70, 'size': 'm', 'exp': '2013'},\n",
       " '18375': {'name': 'santoor', 'qn': 36, 'pr': 80, 'size': 'l', 'exp': '2055'},\n",
       " '18376': {'name': 'maggie', 'qn': 50, 'pr': 90, 'size': 's', 'exp': '2040'},\n",
       " '18377': {'name': 'yippe', 'qn': 58, 'pr': 85, 'size': 'l', 'exp': '2076'},\n",
       " '18378': {'name': 'topromin', 'qn': 44, 'pr': 75, 'size': 'm', 'exp': '2009'},\n",
       " '18379': {'name': 'tata salt',\n",
       "  'qn': 84,\n",
       "  'pr': 88,\n",
       "  'size': 's',\n",
       "  'exp': '2007'},\n",
       " '18380': {'name': 'ashrvid', 'qn': 99, 'pr': 33, 'size': 'm', 'exp': '2003'},\n",
       " '18381': {'name': '3roses', 'qn': 23, 'pr': 44, 'size': 'l', 'exp': '2076'},\n",
       " '18382': {'name': 'red label',\n",
       "  'qn': 24,\n",
       "  'pr': 22,\n",
       "  'size': 'm',\n",
       "  'exp': '2062'},\n",
       " '18383': {'name': 'taj mahal',\n",
       "  'qn': 74,\n",
       "  'pr': 67,\n",
       "  'size': 'l',\n",
       "  'exp': '2039'},\n",
       " '18384': {'name': 'gemini', 'qn': 66, 'pr': 51, 'size': 's', 'exp': '2049'},\n",
       " '18385': {'name': 'parle-g', 'qn': 67, 'pr': 88, 'size': 'm', 'exp': '2059'},\n",
       " '18386': {'name': 'bourbon', 'qn': 69, 'pr': 100, 'size': 'l', 'exp': '2000'},\n",
       " '18387': {'name': 'hide&seek',\n",
       "  'qn': 18,\n",
       "  'pr': 110,\n",
       "  'size': 's',\n",
       "  'exp': '2068'},\n",
       " '18388': {'name': 'tiger', 'qn': 70, 'pr': 54, 'size': 'l', 'exp': '2098'},\n",
       " '18389': {'name': 'gooday', 'qn': 100, 'pr': 20, 'size': 's', 'exp': '2091'},\n",
       " '18390': {'name': 'darkfantasy',\n",
       "  'qn': 123,\n",
       "  'pr': 14,\n",
       "  'size': 'm',\n",
       "  'exp': '2027'},\n",
       " '183100': {'name': 'sunsilk', 'qn': 43, 'pr': 26, 'size': 'm', 'exp': '2001'}}"
      ]
     },
     "execution_count": 18,
     "metadata": {},
     "output_type": "execute_result"
    }
   ],
   "source": [
    "record"
   ]
  },
  {
   "cell_type": "markdown",
   "id": "4fd956b8",
   "metadata": {},
   "source": [
    "# purchasing items"
   ]
  },
  {
   "cell_type": "code",
   "execution_count": 31,
   "id": "e321a2ef",
   "metadata": {},
   "outputs": [
    {
     "name": "stdout",
     "output_type": "stream",
     "text": [
      "enter product id: 18360\n",
      "enter product quantity: 5\n"
     ]
    }
   ],
   "source": [
    "prd_id=input(\"enter product id: \")\n",
    "prd_qty=int(input(\"enter product quantity: \"))"
   ]
  },
  {
   "cell_type": "code",
   "execution_count": 41,
   "id": "ef528851",
   "metadata": {},
   "outputs": [
    {
     "name": "stdout",
     "output_type": "stream",
     "text": [
      "bill amount: 25\n"
     ]
    }
   ],
   "source": [
    "bill=record[prd_id]['pr']*prd_qty\n",
    "print(\"bill amount:\",bill)\n",
    "record[prd_id]['qn']=record[prd_id]['qn']-prd_qty\n"
   ]
  },
  {
   "cell_type": "code",
   "execution_count": 42,
   "id": "58b29689",
   "metadata": {},
   "outputs": [
    {
     "data": {
      "text/plain": [
       "{'18360': {'name': '5star', 'qn': 40, 'pr': 5, 'size': 's', 'exp': '2014'},\n",
       " '18361': {'name': 'dairy milk',\n",
       "  'qn': 63,\n",
       "  'pr': 10,\n",
       "  'size': 'm',\n",
       "  'exp': '2022'},\n",
       " '18362': {'name': 'gems', 'qn': 12, 'pr': 15, 'size': 'l', 'exp': '2025'},\n",
       " '18363': {'name': 'kitkat', 'qn': 34, 'pr': 20, 'size': 'm', 'exp': '2021'},\n",
       " '18364': {'name': 'milkybar', 'qn': 56, 'pr': 34, 'size': 'l', 'exp': '2011'},\n",
       " '18365': {'name': 'munch', 'qn': 21, 'pr': 25, 'size': 's', 'exp': '2035'},\n",
       " '18366': {'name': 'perk', 'qn': 16, 'pr': 30, 'size': 'm', 'exp': '2032'},\n",
       " '18367': {'name': 'silk', 'qn': 78, 'pr': 16, 'size': 'l', 'exp': '2012'},\n",
       " '18368': {'name': 'lifeboy', 'qn': 25, 'pr': 55, 'size': 's', 'exp': '2034'},\n",
       " '18369': {'name': 'dettol', 'qn': 43, 'pr': 60, 'size': 'm', 'exp': '2067'},\n",
       " '18371': {'name': 'lux', 'qn': 22, 'pr': 45, 'size': 's', 'exp': '2033'},\n",
       " '18372': {'name': 'cinthol', 'qn': 67, 'pr': 60, 'size': 'l', 'exp': '2056'},\n",
       " '18373': {'name': 'dove', 'qn': 71, 'pr': 65, 'size': 's', 'exp': '2071'},\n",
       " '18374': {'name': 'pears', 'qn': 89, 'pr': 70, 'size': 'm', 'exp': '2013'},\n",
       " '18375': {'name': 'santoor', 'qn': 36, 'pr': 80, 'size': 'l', 'exp': '2055'},\n",
       " '18376': {'name': 'maggie', 'qn': 50, 'pr': 90, 'size': 's', 'exp': '2040'},\n",
       " '18377': {'name': 'yippe', 'qn': 58, 'pr': 85, 'size': 'l', 'exp': '2076'},\n",
       " '18378': {'name': 'topromin', 'qn': 44, 'pr': 75, 'size': 'm', 'exp': '2009'},\n",
       " '18379': {'name': 'tata salt',\n",
       "  'qn': 84,\n",
       "  'pr': 88,\n",
       "  'size': 's',\n",
       "  'exp': '2007'},\n",
       " '18380': {'name': 'ashrvid', 'qn': 99, 'pr': 33, 'size': 'm', 'exp': '2003'},\n",
       " '18381': {'name': '3roses', 'qn': 23, 'pr': 44, 'size': 'l', 'exp': '2076'},\n",
       " '18382': {'name': 'red label',\n",
       "  'qn': 24,\n",
       "  'pr': 22,\n",
       "  'size': 'm',\n",
       "  'exp': '2062'},\n",
       " '18383': {'name': 'taj mahal',\n",
       "  'qn': 74,\n",
       "  'pr': 67,\n",
       "  'size': 'l',\n",
       "  'exp': '2039'},\n",
       " '18384': {'name': 'gemini', 'qn': 66, 'pr': 51, 'size': 's', 'exp': '2049'},\n",
       " '18385': {'name': 'parle-g', 'qn': 67, 'pr': 88, 'size': 'm', 'exp': '2059'},\n",
       " '18386': {'name': 'bourbon', 'qn': 69, 'pr': 100, 'size': 'l', 'exp': '2000'},\n",
       " '18387': {'name': 'hide&seek',\n",
       "  'qn': 18,\n",
       "  'pr': 110,\n",
       "  'size': 's',\n",
       "  'exp': '2068'},\n",
       " '18388': {'name': 'tiger', 'qn': 70, 'pr': 54, 'size': 'l', 'exp': '2098'},\n",
       " '18389': {'name': 'gooday', 'qn': 100, 'pr': 20, 'size': 's', 'exp': '2091'},\n",
       " '18390': {'name': 'darkfantasy',\n",
       "  'qn': 123,\n",
       "  'pr': 14,\n",
       "  'size': 'm',\n",
       "  'exp': '2027'},\n",
       " '183100': {'name': 'sunsilk', 'qn': 43, 'pr': 26, 'size': 'm', 'exp': '2001'}}"
      ]
     },
     "execution_count": 42,
     "metadata": {},
     "output_type": "execute_result"
    }
   ],
   "source": [
    "record"
   ]
  },
  {
   "cell_type": "markdown",
   "id": "b77066c1",
   "metadata": {},
   "source": [
    "# update inventory after purchase"
   ]
  },
  {
   "cell_type": "code",
   "execution_count": 43,
   "id": "b5e27b78",
   "metadata": {},
   "outputs": [],
   "source": [
    "js=json.dumps(record)\n",
    "fd=open(\"json.record\",\"w\")\n",
    "fd.write(js)\n",
    "fd.close()"
   ]
  },
  {
   "cell_type": "code",
   "execution_count": 44,
   "id": "322ce06a",
   "metadata": {},
   "outputs": [
    {
     "data": {
      "text/plain": [
       "{'18360': {'name': '5star', 'qn': 40, 'pr': 5, 'size': 's', 'exp': '2014'},\n",
       " '18361': {'name': 'dairy milk',\n",
       "  'qn': 63,\n",
       "  'pr': 10,\n",
       "  'size': 'm',\n",
       "  'exp': '2022'},\n",
       " '18362': {'name': 'gems', 'qn': 12, 'pr': 15, 'size': 'l', 'exp': '2025'},\n",
       " '18363': {'name': 'kitkat', 'qn': 34, 'pr': 20, 'size': 'm', 'exp': '2021'},\n",
       " '18364': {'name': 'milkybar', 'qn': 56, 'pr': 34, 'size': 'l', 'exp': '2011'},\n",
       " '18365': {'name': 'munch', 'qn': 21, 'pr': 25, 'size': 's', 'exp': '2035'},\n",
       " '18366': {'name': 'perk', 'qn': 16, 'pr': 30, 'size': 'm', 'exp': '2032'},\n",
       " '18367': {'name': 'silk', 'qn': 78, 'pr': 16, 'size': 'l', 'exp': '2012'},\n",
       " '18368': {'name': 'lifeboy', 'qn': 25, 'pr': 55, 'size': 's', 'exp': '2034'},\n",
       " '18369': {'name': 'dettol', 'qn': 43, 'pr': 60, 'size': 'm', 'exp': '2067'},\n",
       " '18371': {'name': 'lux', 'qn': 22, 'pr': 45, 'size': 's', 'exp': '2033'},\n",
       " '18372': {'name': 'cinthol', 'qn': 67, 'pr': 60, 'size': 'l', 'exp': '2056'},\n",
       " '18373': {'name': 'dove', 'qn': 71, 'pr': 65, 'size': 's', 'exp': '2071'},\n",
       " '18374': {'name': 'pears', 'qn': 89, 'pr': 70, 'size': 'm', 'exp': '2013'},\n",
       " '18375': {'name': 'santoor', 'qn': 36, 'pr': 80, 'size': 'l', 'exp': '2055'},\n",
       " '18376': {'name': 'maggie', 'qn': 50, 'pr': 90, 'size': 's', 'exp': '2040'},\n",
       " '18377': {'name': 'yippe', 'qn': 58, 'pr': 85, 'size': 'l', 'exp': '2076'},\n",
       " '18378': {'name': 'topromin', 'qn': 44, 'pr': 75, 'size': 'm', 'exp': '2009'},\n",
       " '18379': {'name': 'tata salt',\n",
       "  'qn': 84,\n",
       "  'pr': 88,\n",
       "  'size': 's',\n",
       "  'exp': '2007'},\n",
       " '18380': {'name': 'ashrvid', 'qn': 99, 'pr': 33, 'size': 'm', 'exp': '2003'},\n",
       " '18381': {'name': '3roses', 'qn': 23, 'pr': 44, 'size': 'l', 'exp': '2076'},\n",
       " '18382': {'name': 'red label',\n",
       "  'qn': 24,\n",
       "  'pr': 22,\n",
       "  'size': 'm',\n",
       "  'exp': '2062'},\n",
       " '18383': {'name': 'taj mahal',\n",
       "  'qn': 74,\n",
       "  'pr': 67,\n",
       "  'size': 'l',\n",
       "  'exp': '2039'},\n",
       " '18384': {'name': 'gemini', 'qn': 66, 'pr': 51, 'size': 's', 'exp': '2049'},\n",
       " '18385': {'name': 'parle-g', 'qn': 67, 'pr': 88, 'size': 'm', 'exp': '2059'},\n",
       " '18386': {'name': 'bourbon', 'qn': 69, 'pr': 100, 'size': 'l', 'exp': '2000'},\n",
       " '18387': {'name': 'hide&seek',\n",
       "  'qn': 18,\n",
       "  'pr': 110,\n",
       "  'size': 's',\n",
       "  'exp': '2068'},\n",
       " '18388': {'name': 'tiger', 'qn': 70, 'pr': 54, 'size': 'l', 'exp': '2098'},\n",
       " '18389': {'name': 'gooday', 'qn': 100, 'pr': 20, 'size': 's', 'exp': '2091'},\n",
       " '18390': {'name': 'darkfantasy',\n",
       "  'qn': 123,\n",
       "  'pr': 14,\n",
       "  'size': 'm',\n",
       "  'exp': '2027'},\n",
       " '183100': {'name': 'sunsilk', 'qn': 43, 'pr': 26, 'size': 'm', 'exp': '2001'}}"
      ]
     },
     "execution_count": 44,
     "metadata": {},
     "output_type": "execute_result"
    }
   ],
   "source": [
    "record"
   ]
  },
  {
   "cell_type": "code",
   "execution_count": null,
   "id": "9f4b7c53",
   "metadata": {},
   "outputs": [],
   "source": []
  }
 ],
 "metadata": {
  "kernelspec": {
   "display_name": "Python 3",
   "language": "python",
   "name": "python3"
  },
  "language_info": {
   "codemirror_mode": {
    "name": "ipython",
    "version": 3
   },
   "file_extension": ".py",
   "mimetype": "text/x-python",
   "name": "python",
   "nbconvert_exporter": "python",
   "pygments_lexer": "ipython3",
   "version": "3.8.8"
  }
 },
 "nbformat": 4,
 "nbformat_minor": 5
}
